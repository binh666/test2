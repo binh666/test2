{
 "cells": [
  {
   "cell_type": "markdown",
   "metadata": {},
   "source": [
    "## Bài 1:\n",
    "\n",
    "Viết đoạn code đơn giản để nhập vào 3 số a, b, c từ bàn phím sau đấy tính và in ra nghiệm của phương trình dưới đây:\n",
    "$$ ax + b = c$$"
   ]
  },
  {
   "cell_type": "code",
   "execution_count": 7,
   "metadata": {},
   "outputs": [
    {
     "name": "stdout",
     "output_type": "stream",
     "text": [
      "1\n",
      "2\n",
      "3\n",
      "Nghiem cua Phuong Trinh la x = 1.00\n"
     ]
    }
   ],
   "source": [
    "### BEGIN SOLUTION\n",
    "a = float(input())\n",
    "b = float(input())\n",
    "c = float(input())\n",
    "if ( a== 0 ) :\n",
    "    if ( b == 0 ) :\n",
    "        if ( c == 0 ):\n",
    "            print(\"Phuong Trinh co vo so nghiem\")\n",
    "        else : \n",
    "            print(\"Phuong Trinh vo nghiem\")\n",
    "    else :\n",
    "        if ( c == 0 ):\n",
    "            print(\"Phuong Trinh vo nghiem\")\n",
    "        else :\n",
    "            print(\"Nghiem cua Phuong Trinh la x = \",c/a)\n",
    "else : \n",
    "    x = (c-b)/a \n",
    "    print(f\"Nghiem cua Phuong Trinh la x = {x:.2f}\")  \n",
    "### END SOLUTION"
   ]
  },
  {
   "cell_type": "markdown",
   "metadata": {},
   "source": [
    "## Bài 2\n",
    "\n",
    "Cho trước 3 số a = 2, b = 6, c = -4. Viết chương trình tìm và in ra nghiệm của phương trình dưới đây:\n",
    "\n",
    "$$ax^2 + bx + c = 0$$\n",
    "\n",
    "Chú ý: Để tính căn bậc hai của số delta:\n",
    "Sử dụng hàm math.sqrt(x) trong module math"
   ]
  },
  {
   "cell_type": "code",
   "execution_count": 5,
   "metadata": {},
   "outputs": [],
   "source": [
    "# import math module\n",
    "import math\n",
    "\n",
    "#input\n",
    "a = 2\n",
    "b = 6\n",
    "c = -4"
   ]
  },
  {
   "cell_type": "code",
   "execution_count": 6,
   "metadata": {},
   "outputs": [
    {
     "name": "stdout",
     "output_type": "stream",
     "text": [
      "Phương trình có 2 nghiệm là: x1 = 0.56  và x2 = -3.56\n"
     ]
    }
   ],
   "source": [
    "### BEGIN SOLUTION\n",
    "def CALC(a, b, c):\n",
    "    if (a == 0):\n",
    "        if (b == 0):\n",
    "            print (\"Phương trình vô nghiệm!\")\n",
    "        else:\n",
    "            print (\"Phương trình có một nghiệm: x = \", + (-c / b))\n",
    "        return\n",
    " \n",
    "    delta = b * b - 4 * a * c\n",
    "    if (delta > 0):\n",
    "        x1 = (float)((-b + math.sqrt(delta)) / (2 * a))\n",
    "        x2 = (float)((-b - math.sqrt(delta)) / (2 * a))\n",
    "        print (f\"Phương trình có 2 nghiệm là: x1 = {x1:.2f}  và x2 = {x2:.2f}\")\n",
    "    elif (delta == 0):\n",
    "        x1 = (-b / (2 * a))\n",
    "        print(\"Phương trình có nghiệm kép: x1 = x2 = {x1:.2f}\")\n",
    "    else:\n",
    "        print(\"Phương trình vô nghiệm!\")\n",
    "CALC(a, b, c)\n",
    "\n",
    "### END SOLUTION"
   ]
  },
  {
   "cell_type": "markdown",
   "metadata": {},
   "source": [
    "## Bài 3\n",
    "\n",
    "Viết chương trình giải phương trình bậc hai (giả sử a != 0). Chú ý xét các trường hợp.\n",
    "\n",
    "$$ax^2 + bx + c = 0$$\n",
    "\n",
    "Có thể làm: Format string để in ra số thập phân chỉ lấy 2 chữ có sau dấu phẩy."
   ]
  },
  {
   "cell_type": "code",
   "execution_count": 13,
   "metadata": {},
   "outputs": [
    {
     "ename": "IndentationError",
     "evalue": "unindent does not match any outer indentation level (<tokenize>, line 12)",
     "output_type": "error",
     "traceback": [
      "\u001b[0;36m  File \u001b[0;32m\"<tokenize>\"\u001b[0;36m, line \u001b[0;32m12\u001b[0m\n\u001b[0;31m    print ('x {:.2f}'.format(x))\u001b[0m\n\u001b[0m    ^\u001b[0m\n\u001b[0;31mIndentationError\u001b[0m\u001b[0;31m:\u001b[0m unindent does not match any outer indentation level\n"
     ]
    }
   ],
   "source": [
    "### BEGIN SOLUTION\n",
    "import math\n",
    "#input\n",
    "a = float(input ( 'Enter a: '))\n",
    "b = float (input ( 'Enter b: '))\n",
    "c = float (input('Enter c: '))\n",
    "delta = b**2 - 4*a*c\n",
    "if delta < 0:\n",
    "  print ('Pt vô nghiệm')\n",
    "elif delta == 0:\n",
    "  x = ((-b/(2*a)))\n",
    " print ('x {:.2f}'.format(x))\n",
    "else:\n",
    "  x1 = ((-b-math.sqrt(delta))/(2*a))\n",
    " x2 = ((-b+math.sqrt(delta))/(2*a))\n",
    "  print ('x1= {:.2f}'.format (x1))\n",
    "  print ('x2= {:.2f}'.format (x2))\n",
    "    \n",
    "### END SOLUTION"
   ]
  },
  {
   "cell_type": "code",
   "execution_count": null,
   "metadata": {},
   "outputs": [],
   "source": []
  }
 ],
 "metadata": {
  "kernelspec": {
   "display_name": "Python 3 (ipykernel)",
   "language": "python",
   "name": "python3"
  },
  "language_info": {
   "codemirror_mode": {
    "name": "ipython",
    "version": 3
   },
   "file_extension": ".py",
   "mimetype": "text/x-python",
   "name": "python",
   "nbconvert_exporter": "python",
   "pygments_lexer": "ipython3",
   "version": "3.7.3"
  }
 },
 "nbformat": 4,
 "nbformat_minor": 2
}
